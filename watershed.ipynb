{
 "cells": [
  {
   "cell_type": "code",
   "execution_count": null,
   "metadata": {},
   "outputs": [],
   "source": [
    "import matplotlib.pyplot as plt\n",
    "import numpy as np\n",
    "import cv2\n",
    "\n",
    "ASSETS_FOLDER = 'assets/'\n",
    "EDGE_THRESHOLD = 5"
   ]
  },
  {
   "cell_type": "code",
   "execution_count": null,
   "metadata": {},
   "outputs": [],
   "source": [
    "def draw_on_image(image):\n",
    "  drawing = False\n",
    "  pt1_x, pt1_y = None, None\n",
    "\n",
    "  def line_drawing(event, x, y, _, __):\n",
    "    global pt1_x, pt1_y, drawing\n",
    "\n",
    "    if event == cv2.EVENT_LBUTTONDOWN:\n",
    "      drawing = True\n",
    "      pt1_x, pt1_y = x, y\n",
    "\n",
    "    elif event == cv2.EVENT_MOUSEMOVE:\n",
    "      if drawing == True:\n",
    "        cv2.line(image, (pt1_x, pt1_y), (x, y), color=(0, 0, 0), thickness=3)\n",
    "        pt1_x, pt1_y = x, y\n",
    "\n",
    "    elif event == cv2.EVENT_LBUTTONUP:\n",
    "      drawing = False\n",
    "      cv2.line(image, (pt1_x,pt1_y), (x, y), color=(0, 0, 0), thickness=3)        \n",
    "\n",
    "\n",
    "  image = cv2.cvtColor(image, cv2.COLOR_RGB2BGR)\n",
    "  cv2.namedWindow('test draw')\n",
    "  cv2.setMouseCallback('test draw', line_drawing)\n",
    "\n",
    "  while(1):\n",
    "    cv2.imshow('test draw',image)\n",
    "    if cv2.waitKey(1) & 0xFF == 27:\n",
    "      break\n",
    "\n",
    "  cv2.destroyAllWindows()\n",
    "\n",
    "  return cv2.cvtColor(image, cv2.COLOR_BGR2RGB)"
   ]
  },
  {
   "cell_type": "code",
   "execution_count": null,
   "metadata": {},
   "outputs": [],
   "source": [
    "def display_images(input, edges, output):\n",
    "  _, axes = plt.subplots(1, 3, figsize=(20, 20), squeeze=False)\n",
    "  axes[0, 0].imshow(input, cmap=\"gray\")\n",
    "  axes[0, 0].set_title(\"Input\")\n",
    "  axes[0, 0].axis(\"off\")\n",
    "\n",
    "  axes[0, 1].imshow(edges, cmap=\"gray\")\n",
    "  axes[0, 1].set_title(\"Edges\")\n",
    "  axes[0, 1].axis(\"off\")\n",
    "\n",
    "  axes[0, 2].imshow(output)\n",
    "  axes[0, 2].set_title(\"Output\")\n",
    "  axes[0, 2].axis(\"off\")\n",
    "\n",
    "  plt.tight_layout()"
   ]
  },
  {
   "cell_type": "code",
   "execution_count": null,
   "metadata": {},
   "outputs": [],
   "source": [
    "def load_image(path, color=cv2.COLOR_BGR2GRAY):\n",
    "  image = cv2.imread(path, -1)\n",
    "\n",
    "  if image is not None:\n",
    "    image = cv2.cvtColor(image, color)\n",
    "\n",
    "    return image"
   ]
  },
  {
   "cell_type": "code",
   "execution_count": null,
   "metadata": {},
   "outputs": [],
   "source": [
    "def edge_detection(image):\n",
    "  kernel = np.ones((3, 3), np.uint8)\n",
    "  edges = cv2.dilate(image, kernel) - cv2.erode(image, kernel)\n",
    "  edges[edges < EDGE_THRESHOLD] = 0\n",
    "  return edges"
   ]
  },
  {
   "cell_type": "code",
   "execution_count": null,
   "metadata": {},
   "outputs": [],
   "source": [
    "def get_pixel(image, i, j):\n",
    "  if i < 0 or j < 0 or i >= image.shape[0] or j >= image.shape[1]:\n",
    "    return -1\n",
    "  return image[i][j]"
   ]
  },
  {
   "cell_type": "code",
   "execution_count": null,
   "metadata": {},
   "outputs": [],
   "source": [
    "def get_neighourhood(image, i, j):\n",
    "  return np.array([\n",
    "    get_pixel(image, i - 1, j - 1),\n",
    "    get_pixel(image, i - 1, j),\n",
    "    get_pixel(image, i - 1, j + 1),\n",
    "    get_pixel(image, i, j - 1),\n",
    "    get_pixel(image, i, j + 1),\n",
    "    get_pixel(image, i + 1, j - 1),\n",
    "    get_pixel(image, i + 1, j),\n",
    "    get_pixel(image, i + 1, j + 1),\n",
    "  ])"
   ]
  },
  {
   "cell_type": "code",
   "execution_count": null,
   "metadata": {},
   "outputs": [],
   "source": [
    "def watershed_basic(image, regions=None):\n",
    "  new_region = 0\n",
    "  colors = []\n",
    "  segmented = np.empty((image.shape[0], image.shape[1], 3))\n",
    "\n",
    "  if regions == None:\n",
    "    regions = np.full(image.shape, -1)\n",
    "\n",
    "  for intensity in range(256):\n",
    "    for i in range(image.shape[0]):\n",
    "      for j in range(image.shape[1]):\n",
    "        if image[i][j] == intensity:\n",
    "          neighbours = get_neighourhood(regions, i, j)\n",
    "          mask = neighbours > -1\n",
    "\n",
    "          if True in mask:\n",
    "            segment = min(x for x in neighbours if x > -1)\n",
    "            regions[i][j] = segment\n",
    "            segmented[i, j, :] = colors[segment]\n",
    "          else:\n",
    "            new_color = list(np.random.choice(range(256), size=3))\n",
    "            regions[i][j] = new_region\n",
    "            segmented[i, j, :] = new_color\n",
    "            colors.append(new_color)\n",
    "            new_region += 1\n",
    "\n",
    "  segmented = segmented.astype(np.byte)\n",
    "  segmented[segmented > 255] = 255\n",
    "  segmented[segmented < 0] = 0\n",
    "  return segmented"
   ]
  },
  {
   "cell_type": "code",
   "execution_count": null,
   "metadata": {},
   "outputs": [],
   "source": [
    "image = load_image(ASSETS_FOLDER + 'primer1.jpg')\n",
    "edges = edge_detection(image)\n",
    "segmented = watershed_basic(edges)\n",
    "\n",
    "display_images(image, edges, segmented)"
   ]
  },
  {
   "cell_type": "code",
   "execution_count": null,
   "metadata": {},
   "outputs": [],
   "source": [
    "image = load_image(ASSETS_FOLDER + 'primer2.jpg')\n",
    "edges = edge_detection(image)\n",
    "segmented = watershed_basic(edges)\n",
    "\n",
    "display_images(image, edges, segmented)"
   ]
  },
  {
   "cell_type": "code",
   "execution_count": null,
   "metadata": {},
   "outputs": [],
   "source": [
    "image = load_image(ASSETS_FOLDER + 'primer3.jpg')\n",
    "edges = edge_detection(image)\n",
    "segmented = watershed_basic(edges)\n",
    "\n",
    "display_images(image, edges, segmented)"
   ]
  },
  {
   "cell_type": "code",
   "execution_count": null,
   "metadata": {},
   "outputs": [],
   "source": [
    "image = load_image(ASSETS_FOLDER + 'primer1.jpg', cv2.COLOR_BGR2RGB)\n",
    "image = draw_on_image(image)\n",
    "\n",
    "plt.imshow(image)\n",
    "plt.axis('off')\n",
    "plt.show()"
   ]
  }
 ],
 "metadata": {
  "kernelspec": {
   "display_name": "Python 3.10.2 64-bit",
   "language": "python",
   "name": "python3"
  },
  "language_info": {
   "codemirror_mode": {
    "name": "ipython",
    "version": 3
   },
   "file_extension": ".py",
   "mimetype": "text/x-python",
   "name": "python",
   "nbconvert_exporter": "python",
   "pygments_lexer": "ipython3",
   "version": "3.10.2"
  },
  "orig_nbformat": 4,
  "vscode": {
   "interpreter": {
    "hash": "6532684ccaeb1bcbbe852b7f75c67e6f1d55df7d386020fd37670376cbe3d2c9"
   }
  }
 },
 "nbformat": 4,
 "nbformat_minor": 2
}
